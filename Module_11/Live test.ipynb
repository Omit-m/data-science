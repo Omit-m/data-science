{
 "cells": [
  {
   "cell_type": "code",
   "execution_count": null,
   "id": "14a8a0f1",
   "metadata": {},
   "outputs": [],
   "source": [
    "# import pandas as pd\n",
    "\n",
    "# df_encoded = pd.get_dummies(df, columns=['Car Model'])\n",
    "\n",
    "# print(df_encoded)\n"
   ]
  },
  {
   "cell_type": "code",
   "execution_count": null,
   "id": "bcbbb939",
   "metadata": {},
   "outputs": [],
   "source": [
    "import pandas as pd\n",
    "\n",
    "# Sample DataFrame creation (replace this with your actual DataFrame)\n",
    "data = {\n",
    "    'Car Model': ['BMW x5', 'BMW x5', 'BMW x5', 'BMW x5', 'BMW x5', 'Audi A5', 'Audi A5', 'Audi A5', 'Audi A5', 'Mercedez Benz C class', 'Mercedez Benz C class', 'Mercedez Benz C class', 'Mercedez Benz C class'],\n",
    "    'Mileage': [69000, 35000, 57000, 22000, 46000, 59000, 52000, 72000, 91000, 67000, 83000, 79000, 59000],\n",
    "    'Sell Price': [18000, 34000, 26100, 40000, 131500, 29400, 32000, 19300, 12000, 22000, 20000, 21000, 33000],\n",
    "    'Age': [6, 3, 5, 2, 4, 5, 5, 6, 8, 6, 6, 6, 6]\n",
    "}\n",
    "\n",
    "df = pd.DataFrame(data)\n",
    "df\n"
   ]
  },
  {
   "cell_type": "code",
   "execution_count": null,
   "id": "eea31cc4",
   "metadata": {},
   "outputs": [],
   "source": [
    "\n",
    "# df_encoded = pd.get_dummies(df, columns=['Car Model'])\n",
    "\n",
    "# print(df_encoded)"
   ]
  },
  {
   "cell_type": "code",
   "execution_count": 1,
   "id": "e4ca0fa5",
   "metadata": {},
   "outputs": [
    {
     "name": "stdout",
     "output_type": "stream",
     "text": [
      "    Mileage  Sell Price  Age  Car Model_Audi A5  Car Model_BMW x5  \\\n",
      "0     69000       18000    6              False              True   \n",
      "1     35000       34000    3              False              True   \n",
      "2     57000       26100    5              False              True   \n",
      "3     22000       40000    2              False              True   \n",
      "4     46000      131500    4              False              True   \n",
      "5     59000       29400    5               True             False   \n",
      "6     52000       32000    5               True             False   \n",
      "7     72000       19300    6               True             False   \n",
      "8     91000       12000    8               True             False   \n",
      "9     67000       22000    6              False             False   \n",
      "10    83000       20000    6              False             False   \n",
      "11    79000       21000    6              False             False   \n",
      "12    59000       33000    6              False             False   \n",
      "\n",
      "    Car Model_Mercedez Benz C class  \n",
      "0                             False  \n",
      "1                             False  \n",
      "2                             False  \n",
      "3                             False  \n",
      "4                             False  \n",
      "5                             False  \n",
      "6                             False  \n",
      "7                             False  \n",
      "8                             False  \n",
      "9                              True  \n",
      "10                             True  \n",
      "11                             True  \n",
      "12                             True  \n"
     ]
    }
   ],
   "source": [
    "import pandas as pd\n",
    "\n",
    "DF = {\n",
    "    'Car Model': ['BMW x5', 'BMW x5', 'BMW x5', 'BMW x5', 'BMW x5', 'Audi A5', 'Audi A5', 'Audi A5', 'Audi A5', 'Mercedez Benz C class', 'Mercedez Benz C class', 'Mercedez Benz C class', 'Mercedez Benz C class'],\n",
    "    'Mileage': [69000, 35000, 57000, 22000, 46000, 59000, 52000, 72000, 91000, 67000, 83000, 79000, 59000],\n",
    "    'Sell Price': [18000, 34000, 26100, 40000, 131500, 29400, 32000, 19300, 12000, 22000, 20000, 21000, 33000],\n",
    "    'Age': [6, 3, 5, 2, 4, 5, 5, 6, 8, 6, 6, 6, 6]\n",
    "}\n",
    "\n",
    "df = pd.DataFrame(DF)\n",
    "df\n",
    "\n",
    "df_encoded = pd.get_dummies(df, columns=['Car Model'])\n",
    "\n",
    "print(df_encoded)"
   ]
  },
  {
   "cell_type": "code",
   "execution_count": null,
   "id": "94b587a2",
   "metadata": {},
   "outputs": [],
   "source": []
  }
 ],
 "metadata": {
  "kernelspec": {
   "display_name": "Python 3 (ipykernel)",
   "language": "python",
   "name": "python3"
  },
  "language_info": {
   "codemirror_mode": {
    "name": "ipython",
    "version": 3
   },
   "file_extension": ".py",
   "mimetype": "text/x-python",
   "name": "python",
   "nbconvert_exporter": "python",
   "pygments_lexer": "ipython3",
   "version": "3.11.5"
  }
 },
 "nbformat": 4,
 "nbformat_minor": 5
}
